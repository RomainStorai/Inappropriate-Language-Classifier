{
 "cells": [
  {
   "attachments": {},
   "cell_type": "markdown",
   "metadata": {},
   "source": [
    "# Inappropriate Language Classifier\n",
    "\n",
    "This notebook is dedicated to run a model in order to predict wether a text contains inappropriate language or not.\n",
    "\n",
    "Please follow the following steps to run the model."
   ]
  },
  {
   "attachments": {},
   "cell_type": "markdown",
   "metadata": {},
   "source": [
    "### 0. Imports\n",
    "Import the required modules"
   ]
  },
  {
   "cell_type": "code",
   "execution_count": null,
   "metadata": {},
   "outputs": [],
   "source": [
    "import pickle\n",
    "from sklearn.feature_extraction.text import CountVectorizer\n",
    "import nltk\n",
    "nltk.download('stopwords')\n",
    "nltk.download('wordnet')\n",
    "nltk.download('omw-1.4')\n",
    "\n",
    "from nltk.corpus import stopwords\n",
    "from nltk.stem import WordNetLemmatizer"
   ]
  },
  {
   "attachments": {},
   "cell_type": "markdown",
   "metadata": {},
   "source": [
    "### 1. Load Model and Tokenizer\n",
    "Tokenizer will split the characters into known tokens, and the model will be used later to predict the class of the text"
   ]
  },
  {
   "cell_type": "code",
   "execution_count": null,
   "metadata": {},
   "outputs": [],
   "source": [
    "# Load Tokenizer\n",
    "tokenizer_path = \"./saved/countvectorizer.pickle\"\n",
    "with open(tokenizer_path, 'rb') as f:\n",
    "    tokenizer : CountVectorizer = pickle.load(f)\n",
    "\n",
    "# Load Model\n",
    "model_path = \"./saved/decisiontree/dt_cv.pickle\"\n",
    "with open(model_path, 'rb') as f:\n",
    "    model = pickle.load(f)"
   ]
  },
  {
   "attachments": {},
   "cell_type": "markdown",
   "metadata": {},
   "source": [
    "### 2. Create the function to preprocess the texts\n",
    "The texts have to be cleaned and tokenized before being computed by the model"
   ]
  },
  {
   "cell_type": "code",
   "execution_count": null,
   "metadata": {},
   "outputs": [],
   "source": [
    "lemmatizer = WordNetLemmatizer()\n",
    "\n",
    "def preprocess_data(text:str):\n",
    "    text = text.lower().removeprefix(\"\\\"\").removesuffix(\"\\\"\")\n",
    "    words = text.split()\n",
    "    words = [word for word in words if word not in stopwords.words('english')]\n",
    "    words = [lemmatizer.lemmatize(word) for word in words]\n",
    "    text = ' '.join(words)\n",
    "    return tokenizer.transform([text])"
   ]
  },
  {
   "attachments": {},
   "cell_type": "markdown",
   "metadata": {},
   "source": [
    "### 3. Predict your text\n",
    "This is the place you will use to predict the class of your text. Be careful, our model was trained on a large social comment database, which means that you could eventually bring new vocabulary to the network that hasn\\'t be seen before."
   ]
  },
  {
   "cell_type": "code",
   "execution_count": null,
   "metadata": {},
   "outputs": [],
   "source": [
    "sentence = \"This is an appropriate sentence.\"\n",
    "\n",
    "sentence = preprocess_data(sentence)\n",
    "prediction = model.predict(sentence)\n",
    "\n",
    "print(\"appropriate\" if str(prediction) == \"[[1 0]]\" else \"inappropriate\")"
   ]
  }
 ],
 "metadata": {
  "kernelspec": {
   "display_name": "inap",
   "language": "python",
   "name": "python3"
  },
  "language_info": {
   "codemirror_mode": {
    "name": "ipython",
    "version": 3
   },
   "file_extension": ".py",
   "mimetype": "text/x-python",
   "name": "python",
   "nbconvert_exporter": "python",
   "pygments_lexer": "ipython3",
   "version": "3.11.2"
  },
  "orig_nbformat": 4
 },
 "nbformat": 4,
 "nbformat_minor": 2
}
